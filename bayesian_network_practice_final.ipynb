{
 "cells": [
  {
   "attachments": {},
   "cell_type": "markdown",
   "metadata": {},
   "source": [
    "# Práctica sobre redes bayesianas\n",
    "\n",
    "Disponemos de un [*dataset*](https://github.com/cayetanoguerra/cayetanoguerra.github.io/blob/master/ia/nbpy/data/exoplanets.xls) de [exoplanetas](https://es.wikipedia.org/wiki/Planeta_extrasolar#:~:text=Un%20planeta%20extrasolar%20o%20exoplaneta,cient%C3%ADfica%20en%20el%20siglo%20XX.) que cuenta con los siguientes datos:\n",
    "\n",
    "- **Radio:** (metros) - variable real\n",
    "- **Masa:** (kilogramos) - variable real\n",
    "- **Gravedad:** (relativa respecto a la terrestre) - variable real\n",
    "- **Atmósfera:** variable binaria\n",
    "- **Oxígeno:** variable binaria\n",
    "- **Temperatura promedio:** (grados centígrados) - variable real\n",
    "- **Existencia de agua:** variables binaria\n",
    "- **Periodo de rotación:** (horas) - variable real\n",
    "- **Vida:** variable binaria\n",
    "\n",
    "<img src=\"imgs/exoplanetas.jpg\">\n",
    "\n",
    "Deberás desarrollar una red bayesiana que retorne la probabilidad de que haya vida en un determinado planeta en función de sus propiedades.\n",
    "\n",
    "Observa que no todos los datos son categóricos, así que deberás categorizarlos antes. Para ello, puedes definir rangos en los datos reales para obtener categorías. Por ejemplo, la propiedad **radio** puedes categorizarla como **pequeño**, **medio** y **grande**.\n",
    "\n",
    "### Tareas\n",
    "\n",
    "1) Categoriza las variables reales como consideres.\n",
    "\n",
    "2) Mediante la librería **bnlearn** obtén el grafo de manera automática de la red bayesiana y reflexiona sobre su verosimilitud. Cámbialo manualmente si lo crees conveniente.\n",
    "\n",
    "3) Busca de manera automática las tablas de probabilidad condicionada de la red.\n",
    "\n",
    "4) Escoge algunas propiedades de los planetas y realiza la inferencia sobre ellos.\n",
    "\n",
    "La práctica debe ser realizada mediante un notebook de Jupyter. Describe apropiadamente el código y su función.\n",
    " "
   ]
  },
  {
   "cell_type": "code",
   "execution_count": 65,
   "metadata": {},
   "outputs": [],
   "source": [
    "import numpy as np\n",
    "import pandas as pd\n",
    "import matplotlib.pyplot as plt\n",
    "import bnlearn as bn"
   ]
  },
  {
   "cell_type": "code",
   "execution_count": 66,
   "metadata": {},
   "outputs": [
    {
     "data": {
      "text/html": [
       "<div>\n",
       "<style scoped>\n",
       "    .dataframe tbody tr th:only-of-type {\n",
       "        vertical-align: middle;\n",
       "    }\n",
       "\n",
       "    .dataframe tbody tr th {\n",
       "        vertical-align: top;\n",
       "    }\n",
       "\n",
       "    .dataframe thead th {\n",
       "        text-align: right;\n",
       "    }\n",
       "</style>\n",
       "<table border=\"1\" class=\"dataframe\">\n",
       "  <thead>\n",
       "    <tr style=\"text-align: right;\">\n",
       "      <th></th>\n",
       "      <th>radius (m)</th>\n",
       "      <th>mass (kg)</th>\n",
       "      <th>gravity</th>\n",
       "      <th>atmosphere</th>\n",
       "      <th>oxygene</th>\n",
       "      <th>avg_temp (C)</th>\n",
       "      <th>water</th>\n",
       "      <th>rotational_period (h)</th>\n",
       "      <th>life</th>\n",
       "    </tr>\n",
       "  </thead>\n",
       "  <tbody>\n",
       "    <tr>\n",
       "      <th>0</th>\n",
       "      <td>11473000.0</td>\n",
       "      <td>3.478097e+25</td>\n",
       "      <td>1.80</td>\n",
       "      <td>YES</td>\n",
       "      <td>YES</td>\n",
       "      <td>35.8</td>\n",
       "      <td>YES</td>\n",
       "      <td>50.5</td>\n",
       "      <td>NO</td>\n",
       "    </tr>\n",
       "    <tr>\n",
       "      <th>1</th>\n",
       "      <td>10440000.0</td>\n",
       "      <td>2.620465e+25</td>\n",
       "      <td>1.64</td>\n",
       "      <td>NO</td>\n",
       "      <td>NO</td>\n",
       "      <td>34.5</td>\n",
       "      <td>NO</td>\n",
       "      <td>30.5</td>\n",
       "      <td>NO</td>\n",
       "    </tr>\n",
       "    <tr>\n",
       "      <th>2</th>\n",
       "      <td>12520000.0</td>\n",
       "      <td>4.518792e+25</td>\n",
       "      <td>1.96</td>\n",
       "      <td>YES</td>\n",
       "      <td>YES</td>\n",
       "      <td>42.1</td>\n",
       "      <td>YES</td>\n",
       "      <td>12.3</td>\n",
       "      <td>YES</td>\n",
       "    </tr>\n",
       "    <tr>\n",
       "      <th>3</th>\n",
       "      <td>11727000.0</td>\n",
       "      <td>3.714528e+25</td>\n",
       "      <td>1.84</td>\n",
       "      <td>YES</td>\n",
       "      <td>YES</td>\n",
       "      <td>39.0</td>\n",
       "      <td>NO</td>\n",
       "      <td>24.5</td>\n",
       "      <td>NO</td>\n",
       "    </tr>\n",
       "    <tr>\n",
       "      <th>4</th>\n",
       "      <td>7285000.0</td>\n",
       "      <td>8.903243e+24</td>\n",
       "      <td>1.14</td>\n",
       "      <td>NO</td>\n",
       "      <td>NO</td>\n",
       "      <td>9.3</td>\n",
       "      <td>NO</td>\n",
       "      <td>32.7</td>\n",
       "      <td>NO</td>\n",
       "    </tr>\n",
       "  </tbody>\n",
       "</table>\n",
       "</div>"
      ],
      "text/plain": [
       "   radius (m)     mass (kg)  gravity atmosphere oxygene  avg_temp (C) water  \\\n",
       "0  11473000.0  3.478097e+25     1.80        YES     YES          35.8   YES   \n",
       "1  10440000.0  2.620465e+25     1.64         NO      NO          34.5    NO   \n",
       "2  12520000.0  4.518792e+25     1.96        YES     YES          42.1   YES   \n",
       "3  11727000.0  3.714528e+25     1.84        YES     YES          39.0    NO   \n",
       "4   7285000.0  8.903243e+24     1.14         NO      NO           9.3    NO   \n",
       "\n",
       "   rotational_period (h) life  \n",
       "0                   50.5   NO  \n",
       "1                   30.5   NO  \n",
       "2                   12.3  YES  \n",
       "3                   24.5   NO  \n",
       "4                   32.7   NO  "
      ]
     },
     "execution_count": 66,
     "metadata": {},
     "output_type": "execute_result"
    }
   ],
   "source": [
    "data = pd.read_excel(\"exoplanets.xls\")\n",
    "data.head()"
   ]
  },
  {
   "attachments": {},
   "cell_type": "markdown",
   "metadata": {},
   "source": [
    "## Creamos tabla nueva"
   ]
  },
  {
   "cell_type": "code",
   "execution_count": 67,
   "metadata": {},
   "outputs": [],
   "source": [
    "df = pd.DataFrame()"
   ]
  },
  {
   "attachments": {},
   "cell_type": "markdown",
   "metadata": {},
   "source": [
    "## Masa"
   ]
  },
  {
   "cell_type": "code",
   "execution_count": 68,
   "metadata": {},
   "outputs": [
    {
     "data": {
      "text/html": [
       "<div>\n",
       "<style scoped>\n",
       "    .dataframe tbody tr th:only-of-type {\n",
       "        vertical-align: middle;\n",
       "    }\n",
       "\n",
       "    .dataframe tbody tr th {\n",
       "        vertical-align: top;\n",
       "    }\n",
       "\n",
       "    .dataframe thead th {\n",
       "        text-align: right;\n",
       "    }\n",
       "</style>\n",
       "<table border=\"1\" class=\"dataframe\">\n",
       "  <thead>\n",
       "    <tr style=\"text-align: right;\">\n",
       "      <th></th>\n",
       "      <th>mass</th>\n",
       "    </tr>\n",
       "  </thead>\n",
       "  <tbody>\n",
       "    <tr>\n",
       "      <th>0</th>\n",
       "      <td>GRANDE</td>\n",
       "    </tr>\n",
       "    <tr>\n",
       "      <th>1</th>\n",
       "      <td>GRANDE</td>\n",
       "    </tr>\n",
       "    <tr>\n",
       "      <th>2</th>\n",
       "      <td>GRANDE</td>\n",
       "    </tr>\n",
       "    <tr>\n",
       "      <th>3</th>\n",
       "      <td>GRANDE</td>\n",
       "    </tr>\n",
       "    <tr>\n",
       "      <th>4</th>\n",
       "      <td>PEQUEÑO</td>\n",
       "    </tr>\n",
       "  </tbody>\n",
       "</table>\n",
       "</div>"
      ],
      "text/plain": [
       "      mass\n",
       "0   GRANDE\n",
       "1   GRANDE\n",
       "2   GRANDE\n",
       "3   GRANDE\n",
       "4  PEQUEÑO"
      ]
     },
     "execution_count": 68,
     "metadata": {},
     "output_type": "execute_result"
    }
   ],
   "source": [
    "bins = 3\n",
    "group_names = [\"PEQUEÑO\",\"MEDIANO\",\"GRANDE\"]\n",
    "df[\"mass\"] = pd.qcut(data[list(data)[1]], q = bins, labels=group_names)\n",
    "df.head()\n",
    "        "
   ]
  },
  {
   "attachments": {},
   "cell_type": "markdown",
   "metadata": {},
   "source": [
    "# Temperatura\n",
    "Para categorizar la temperatura, hemos investigado que la vida tiende a oscilar entre -18ºC y 50ºC. La temperatura media resultante sería de 16ºC. Por lo tanto, dado que el objetivo es determinar qué planetas tienen más probabilidades de tener vida, hemos decidido categorizar la temperatura en tres rangos: frío, ideal y cálido. En donde la categoría ideal sería la temperatura media de 16ºC con un offset de 5 ºC hacia arriba y hacia abajo. Los rangos frío y cálido serían los que estén por debajo y por encima de la temperatura ideal, respectivamente."
   ]
  },
  {
   "cell_type": "code",
   "execution_count": 69,
   "metadata": {},
   "outputs": [
    {
     "data": {
      "text/html": [
       "<div>\n",
       "<style scoped>\n",
       "    .dataframe tbody tr th:only-of-type {\n",
       "        vertical-align: middle;\n",
       "    }\n",
       "\n",
       "    .dataframe tbody tr th {\n",
       "        vertical-align: top;\n",
       "    }\n",
       "\n",
       "    .dataframe thead th {\n",
       "        text-align: right;\n",
       "    }\n",
       "</style>\n",
       "<table border=\"1\" class=\"dataframe\">\n",
       "  <thead>\n",
       "    <tr style=\"text-align: right;\">\n",
       "      <th></th>\n",
       "      <th>mass</th>\n",
       "      <th>temp</th>\n",
       "    </tr>\n",
       "  </thead>\n",
       "  <tbody>\n",
       "    <tr>\n",
       "      <th>0</th>\n",
       "      <td>GRANDE</td>\n",
       "      <td>CALIENTE</td>\n",
       "    </tr>\n",
       "    <tr>\n",
       "      <th>1</th>\n",
       "      <td>GRANDE</td>\n",
       "      <td>CALIENTE</td>\n",
       "    </tr>\n",
       "    <tr>\n",
       "      <th>2</th>\n",
       "      <td>GRANDE</td>\n",
       "      <td>CALIENTE</td>\n",
       "    </tr>\n",
       "    <tr>\n",
       "      <th>3</th>\n",
       "      <td>GRANDE</td>\n",
       "      <td>CALIENTE</td>\n",
       "    </tr>\n",
       "    <tr>\n",
       "      <th>4</th>\n",
       "      <td>PEQUEÑO</td>\n",
       "      <td>FRÍO</td>\n",
       "    </tr>\n",
       "  </tbody>\n",
       "</table>\n",
       "</div>"
      ],
      "text/plain": [
       "      mass      temp\n",
       "0   GRANDE  CALIENTE\n",
       "1   GRANDE  CALIENTE\n",
       "2   GRANDE  CALIENTE\n",
       "3   GRANDE  CALIENTE\n",
       "4  PEQUEÑO      FRÍO"
      ]
     },
     "execution_count": 69,
     "metadata": {},
     "output_type": "execute_result"
    }
   ],
   "source": [
    "bins = [data[list(data)[5]].values.min(), 11, 21, data[list(data)[5]].values.max()]\n",
    "group_names = [\"FRÍO\",\"IDEAL\",\"CALIENTE\"]\n",
    "df[\"temp\"] = pd.cut(data[list(data)[5]], bins, labels=group_names)\n",
    "df.head()"
   ]
  },
  {
   "cell_type": "code",
   "execution_count": 70,
   "metadata": {},
   "outputs": [
    {
     "data": {
      "text/plain": [
       "CALIENTE    8433\n",
       "FRÍO         882\n",
       "IDEAL        684\n",
       "Name: temp, dtype: int64"
      ]
     },
     "execution_count": 70,
     "metadata": {},
     "output_type": "execute_result"
    }
   ],
   "source": [
    "df[\"temp\"].value_counts()"
   ]
  },
  {
   "attachments": {},
   "cell_type": "markdown",
   "metadata": {},
   "source": [
    "## Radio\n",
    "Para categorizar el radio hemos decidido tomar como referencia a La Tierra y Marte, siendo estos planetas los que conformarán el apartado de \"Mediano\"."
   ]
  },
  {
   "cell_type": "code",
   "execution_count": 71,
   "metadata": {},
   "outputs": [
    {
     "data": {
      "text/html": [
       "<div>\n",
       "<style scoped>\n",
       "    .dataframe tbody tr th:only-of-type {\n",
       "        vertical-align: middle;\n",
       "    }\n",
       "\n",
       "    .dataframe tbody tr th {\n",
       "        vertical-align: top;\n",
       "    }\n",
       "\n",
       "    .dataframe thead th {\n",
       "        text-align: right;\n",
       "    }\n",
       "</style>\n",
       "<table border=\"1\" class=\"dataframe\">\n",
       "  <thead>\n",
       "    <tr style=\"text-align: right;\">\n",
       "      <th></th>\n",
       "      <th>mass</th>\n",
       "      <th>temp</th>\n",
       "      <th>radius</th>\n",
       "    </tr>\n",
       "  </thead>\n",
       "  <tbody>\n",
       "    <tr>\n",
       "      <th>0</th>\n",
       "      <td>GRANDE</td>\n",
       "      <td>CALIENTE</td>\n",
       "      <td>GRANDE</td>\n",
       "    </tr>\n",
       "    <tr>\n",
       "      <th>1</th>\n",
       "      <td>GRANDE</td>\n",
       "      <td>CALIENTE</td>\n",
       "      <td>GRANDE</td>\n",
       "    </tr>\n",
       "    <tr>\n",
       "      <th>2</th>\n",
       "      <td>GRANDE</td>\n",
       "      <td>CALIENTE</td>\n",
       "      <td>GRANDE</td>\n",
       "    </tr>\n",
       "    <tr>\n",
       "      <th>3</th>\n",
       "      <td>GRANDE</td>\n",
       "      <td>CALIENTE</td>\n",
       "      <td>GRANDE</td>\n",
       "    </tr>\n",
       "    <tr>\n",
       "      <th>4</th>\n",
       "      <td>PEQUEÑO</td>\n",
       "      <td>FRÍO</td>\n",
       "      <td>GRANDE</td>\n",
       "    </tr>\n",
       "  </tbody>\n",
       "</table>\n",
       "</div>"
      ],
      "text/plain": [
       "      mass      temp  radius\n",
       "0   GRANDE  CALIENTE  GRANDE\n",
       "1   GRANDE  CALIENTE  GRANDE\n",
       "2   GRANDE  CALIENTE  GRANDE\n",
       "3   GRANDE  CALIENTE  GRANDE\n",
       "4  PEQUEÑO      FRÍO  GRANDE"
      ]
     },
     "execution_count": 71,
     "metadata": {},
     "output_type": "execute_result"
    }
   ],
   "source": [
    "bins = [data[list(data)[0]].values.min(), 3389500, 6371000, data[list(data)[0]].values.max()]\n",
    "group_names = [\"PEQUEÑO\",\"MEDIANO\",\"GRANDE\"]\n",
    "df[\"radius\"] = pd.cut(data[list(data)[0]], bins, labels=group_names)\n",
    "df.head()"
   ]
  },
  {
   "cell_type": "code",
   "execution_count": 72,
   "metadata": {},
   "outputs": [
    {
     "data": {
      "text/plain": [
       "GRANDE     8069\n",
       "MEDIANO    1610\n",
       "PEQUEÑO     320\n",
       "Name: radius, dtype: int64"
      ]
     },
     "execution_count": 72,
     "metadata": {},
     "output_type": "execute_result"
    }
   ],
   "source": [
    "df[\"radius\"].value_counts()"
   ]
  },
  {
   "attachments": {},
   "cell_type": "markdown",
   "metadata": {},
   "source": [
    "## Gravedad"
   ]
  },
  {
   "attachments": {},
   "cell_type": "markdown",
   "metadata": {},
   "source": [
    "Hay algunas evidencias que sugieren que una gravedad entre el 0,5 y el 2 veces la gravedad de la Tierra, por lo tanto, seguiremos dicho criterio"
   ]
  },
  {
   "cell_type": "code",
   "execution_count": 73,
   "metadata": {},
   "outputs": [
    {
     "data": {
      "text/html": [
       "<div>\n",
       "<style scoped>\n",
       "    .dataframe tbody tr th:only-of-type {\n",
       "        vertical-align: middle;\n",
       "    }\n",
       "\n",
       "    .dataframe tbody tr th {\n",
       "        vertical-align: top;\n",
       "    }\n",
       "\n",
       "    .dataframe thead th {\n",
       "        text-align: right;\n",
       "    }\n",
       "</style>\n",
       "<table border=\"1\" class=\"dataframe\">\n",
       "  <thead>\n",
       "    <tr style=\"text-align: right;\">\n",
       "      <th></th>\n",
       "      <th>mass</th>\n",
       "      <th>temp</th>\n",
       "      <th>radius</th>\n",
       "      <th>gravity</th>\n",
       "    </tr>\n",
       "  </thead>\n",
       "  <tbody>\n",
       "    <tr>\n",
       "      <th>0</th>\n",
       "      <td>GRANDE</td>\n",
       "      <td>CALIENTE</td>\n",
       "      <td>GRANDE</td>\n",
       "      <td>IDEAL</td>\n",
       "    </tr>\n",
       "    <tr>\n",
       "      <th>1</th>\n",
       "      <td>GRANDE</td>\n",
       "      <td>CALIENTE</td>\n",
       "      <td>GRANDE</td>\n",
       "      <td>IDEAL</td>\n",
       "    </tr>\n",
       "    <tr>\n",
       "      <th>2</th>\n",
       "      <td>GRANDE</td>\n",
       "      <td>CALIENTE</td>\n",
       "      <td>GRANDE</td>\n",
       "      <td>IDEAL</td>\n",
       "    </tr>\n",
       "    <tr>\n",
       "      <th>3</th>\n",
       "      <td>GRANDE</td>\n",
       "      <td>CALIENTE</td>\n",
       "      <td>GRANDE</td>\n",
       "      <td>IDEAL</td>\n",
       "    </tr>\n",
       "    <tr>\n",
       "      <th>4</th>\n",
       "      <td>PEQUEÑO</td>\n",
       "      <td>FRÍO</td>\n",
       "      <td>GRANDE</td>\n",
       "      <td>IDEAL</td>\n",
       "    </tr>\n",
       "  </tbody>\n",
       "</table>\n",
       "</div>"
      ],
      "text/plain": [
       "      mass      temp  radius gravity\n",
       "0   GRANDE  CALIENTE  GRANDE   IDEAL\n",
       "1   GRANDE  CALIENTE  GRANDE   IDEAL\n",
       "2   GRANDE  CALIENTE  GRANDE   IDEAL\n",
       "3   GRANDE  CALIENTE  GRANDE   IDEAL\n",
       "4  PEQUEÑO      FRÍO  GRANDE   IDEAL"
      ]
     },
     "execution_count": 73,
     "metadata": {},
     "output_type": "execute_result"
    }
   ],
   "source": [
    "bins = [data[list(data)[2]].values.min(), 0.5, 2, data[list(data)[2]].values.max()]\n",
    "group_names = [\"POCA\",\"IDEAL\",\"MUCHA\"]\n",
    "df[\"gravity\"] = pd.cut(data[list(data)[2]], bins, labels=group_names)\n",
    "df.head()"
   ]
  },
  {
   "attachments": {},
   "cell_type": "markdown",
   "metadata": {},
   "source": [
    "## Periodo de rotación"
   ]
  },
  {
   "attachments": {},
   "cell_type": "markdown",
   "metadata": {},
   "source": [
    "El periodo de rotación lo situaremos como ideal 4 horas por arriba y por debajo de La Tierra"
   ]
  },
  {
   "cell_type": "code",
   "execution_count": 74,
   "metadata": {},
   "outputs": [
    {
     "data": {
      "text/html": [
       "<div>\n",
       "<style scoped>\n",
       "    .dataframe tbody tr th:only-of-type {\n",
       "        vertical-align: middle;\n",
       "    }\n",
       "\n",
       "    .dataframe tbody tr th {\n",
       "        vertical-align: top;\n",
       "    }\n",
       "\n",
       "    .dataframe thead th {\n",
       "        text-align: right;\n",
       "    }\n",
       "</style>\n",
       "<table border=\"1\" class=\"dataframe\">\n",
       "  <thead>\n",
       "    <tr style=\"text-align: right;\">\n",
       "      <th></th>\n",
       "      <th>mass</th>\n",
       "      <th>temp</th>\n",
       "      <th>radius</th>\n",
       "      <th>gravity</th>\n",
       "      <th>rotation_duration</th>\n",
       "    </tr>\n",
       "  </thead>\n",
       "  <tbody>\n",
       "    <tr>\n",
       "      <th>0</th>\n",
       "      <td>GRANDE</td>\n",
       "      <td>CALIENTE</td>\n",
       "      <td>GRANDE</td>\n",
       "      <td>IDEAL</td>\n",
       "      <td>LENTO</td>\n",
       "    </tr>\n",
       "    <tr>\n",
       "      <th>1</th>\n",
       "      <td>GRANDE</td>\n",
       "      <td>CALIENTE</td>\n",
       "      <td>GRANDE</td>\n",
       "      <td>IDEAL</td>\n",
       "      <td>LENTO</td>\n",
       "    </tr>\n",
       "    <tr>\n",
       "      <th>2</th>\n",
       "      <td>GRANDE</td>\n",
       "      <td>CALIENTE</td>\n",
       "      <td>GRANDE</td>\n",
       "      <td>IDEAL</td>\n",
       "      <td>RÁPIDO</td>\n",
       "    </tr>\n",
       "    <tr>\n",
       "      <th>3</th>\n",
       "      <td>GRANDE</td>\n",
       "      <td>CALIENTE</td>\n",
       "      <td>GRANDE</td>\n",
       "      <td>IDEAL</td>\n",
       "      <td>IDEAL</td>\n",
       "    </tr>\n",
       "    <tr>\n",
       "      <th>4</th>\n",
       "      <td>PEQUEÑO</td>\n",
       "      <td>FRÍO</td>\n",
       "      <td>GRANDE</td>\n",
       "      <td>IDEAL</td>\n",
       "      <td>LENTO</td>\n",
       "    </tr>\n",
       "  </tbody>\n",
       "</table>\n",
       "</div>"
      ],
      "text/plain": [
       "      mass      temp  radius gravity rotation_duration\n",
       "0   GRANDE  CALIENTE  GRANDE   IDEAL             LENTO\n",
       "1   GRANDE  CALIENTE  GRANDE   IDEAL             LENTO\n",
       "2   GRANDE  CALIENTE  GRANDE   IDEAL            RÁPIDO\n",
       "3   GRANDE  CALIENTE  GRANDE   IDEAL             IDEAL\n",
       "4  PEQUEÑO      FRÍO  GRANDE   IDEAL             LENTO"
      ]
     },
     "execution_count": 74,
     "metadata": {},
     "output_type": "execute_result"
    }
   ],
   "source": [
    "bins = [data[list(data)[7]].values.min(), 20, 28, data[list(data)[7]].values.max()]\n",
    "group_names = [\"RÁPIDO\",\"IDEAL\",\"LENTO\"]\n",
    "df[\"rotation_duration\"] = pd.cut(data[list(data)[7]], bins, labels=group_names)\n",
    "df.head()\n"
   ]
  },
  {
   "cell_type": "code",
   "execution_count": 75,
   "metadata": {},
   "outputs": [
    {
     "data": {
      "text/html": [
       "<div>\n",
       "<style scoped>\n",
       "    .dataframe tbody tr th:only-of-type {\n",
       "        vertical-align: middle;\n",
       "    }\n",
       "\n",
       "    .dataframe tbody tr th {\n",
       "        vertical-align: top;\n",
       "    }\n",
       "\n",
       "    .dataframe thead th {\n",
       "        text-align: right;\n",
       "    }\n",
       "</style>\n",
       "<table border=\"1\" class=\"dataframe\">\n",
       "  <thead>\n",
       "    <tr style=\"text-align: right;\">\n",
       "      <th></th>\n",
       "      <th>mass</th>\n",
       "      <th>temp</th>\n",
       "      <th>radius</th>\n",
       "      <th>gravity</th>\n",
       "      <th>rotation_duration</th>\n",
       "      <th>atmosphere</th>\n",
       "      <th>oxygene</th>\n",
       "      <th>water</th>\n",
       "      <th>life</th>\n",
       "    </tr>\n",
       "  </thead>\n",
       "  <tbody>\n",
       "    <tr>\n",
       "      <th>0</th>\n",
       "      <td>GRANDE</td>\n",
       "      <td>CALIENTE</td>\n",
       "      <td>GRANDE</td>\n",
       "      <td>IDEAL</td>\n",
       "      <td>LENTO</td>\n",
       "      <td>YES</td>\n",
       "      <td>YES</td>\n",
       "      <td>YES</td>\n",
       "      <td>NO</td>\n",
       "    </tr>\n",
       "    <tr>\n",
       "      <th>1</th>\n",
       "      <td>GRANDE</td>\n",
       "      <td>CALIENTE</td>\n",
       "      <td>GRANDE</td>\n",
       "      <td>IDEAL</td>\n",
       "      <td>LENTO</td>\n",
       "      <td>NO</td>\n",
       "      <td>NO</td>\n",
       "      <td>NO</td>\n",
       "      <td>NO</td>\n",
       "    </tr>\n",
       "    <tr>\n",
       "      <th>2</th>\n",
       "      <td>GRANDE</td>\n",
       "      <td>CALIENTE</td>\n",
       "      <td>GRANDE</td>\n",
       "      <td>IDEAL</td>\n",
       "      <td>RÁPIDO</td>\n",
       "      <td>YES</td>\n",
       "      <td>YES</td>\n",
       "      <td>YES</td>\n",
       "      <td>YES</td>\n",
       "    </tr>\n",
       "    <tr>\n",
       "      <th>3</th>\n",
       "      <td>GRANDE</td>\n",
       "      <td>CALIENTE</td>\n",
       "      <td>GRANDE</td>\n",
       "      <td>IDEAL</td>\n",
       "      <td>IDEAL</td>\n",
       "      <td>YES</td>\n",
       "      <td>YES</td>\n",
       "      <td>NO</td>\n",
       "      <td>NO</td>\n",
       "    </tr>\n",
       "    <tr>\n",
       "      <th>4</th>\n",
       "      <td>PEQUEÑO</td>\n",
       "      <td>FRÍO</td>\n",
       "      <td>GRANDE</td>\n",
       "      <td>IDEAL</td>\n",
       "      <td>LENTO</td>\n",
       "      <td>NO</td>\n",
       "      <td>NO</td>\n",
       "      <td>NO</td>\n",
       "      <td>NO</td>\n",
       "    </tr>\n",
       "  </tbody>\n",
       "</table>\n",
       "</div>"
      ],
      "text/plain": [
       "      mass      temp  radius gravity rotation_duration atmosphere oxygene  \\\n",
       "0   GRANDE  CALIENTE  GRANDE   IDEAL             LENTO        YES     YES   \n",
       "1   GRANDE  CALIENTE  GRANDE   IDEAL             LENTO         NO      NO   \n",
       "2   GRANDE  CALIENTE  GRANDE   IDEAL            RÁPIDO        YES     YES   \n",
       "3   GRANDE  CALIENTE  GRANDE   IDEAL             IDEAL        YES     YES   \n",
       "4  PEQUEÑO      FRÍO  GRANDE   IDEAL             LENTO         NO      NO   \n",
       "\n",
       "  water life  \n",
       "0   YES   NO  \n",
       "1    NO   NO  \n",
       "2   YES  YES  \n",
       "3    NO   NO  \n",
       "4    NO   NO  "
      ]
     },
     "execution_count": 75,
     "metadata": {},
     "output_type": "execute_result"
    }
   ],
   "source": [
    "df[\"atmosphere\"] = data[list(data)[3]]\n",
    "df[\"oxygene\"] = data[list(data)[4]]\n",
    "df[\"water\"] = data[list(data)[6]]\n",
    "df[\"life\"] = data[list(data)[8]]\n",
    "df.head()"
   ]
  },
  {
   "cell_type": "code",
   "execution_count": 76,
   "metadata": {},
   "outputs": [
    {
     "name": "stdout",
     "output_type": "stream",
     "text": [
      "[bnlearn] >Computing best DAG using [hc]\n",
      "[bnlearn] >Set scoring type at [bic]\n",
      "[bnlearn] >Compute structure scores ['k2', 'bds', 'bic', 'bdeu'] for model comparison (higher is better).\n"
     ]
    }
   ],
   "source": [
    "DAG = bn.structure_learning.fit(df)\n"
   ]
  },
  {
   "cell_type": "code",
   "execution_count": 77,
   "metadata": {},
   "outputs": [
    {
     "name": "stdout",
     "output_type": "stream",
     "text": [
      "[bnlearn] >Set node properties.\n",
      "[bnlearn] >Set edge properties.\n",
      "[bnlearn] >Plot based on Bayesian model\n"
     ]
    },
    {
     "data": {
      "text/plain": [
       "{'ax': <Figure size 1500x1000 with 1 Axes>,\n",
       " 'pos': {'mass': array([-0.3490586 , -0.22631898]),\n",
       "  'temp': array([0.68166082, 0.46856788]),\n",
       "  'radius': array([-0.3520968 , -0.54409876]),\n",
       "  'gravity': array([-0.52990949, -0.86448562]),\n",
       "  'rotation_duration': array([ 1.       , -0.2086874]),\n",
       "  'atmosphere': array([-0.155979  ,  0.41512854]),\n",
       "  'oxygene': array([-0.02014238,  0.59111343]),\n",
       "  'water': array([-0.19198058,  0.07219638]),\n",
       "  'life': array([-0.08249397,  0.29658453])},\n",
       " 'G': <networkx.classes.digraph.DiGraph at 0x2609bc7fac0>,\n",
       " 'node_properties': {'mass': {'node_color': '#1f456e', 'node_size': 800},\n",
       "  'temp': {'node_color': '#1f456e', 'node_size': 800},\n",
       "  'radius': {'node_color': '#1f456e', 'node_size': 800},\n",
       "  'gravity': {'node_color': '#1f456e', 'node_size': 800},\n",
       "  'rotation_duration': {'node_color': '#1f456e', 'node_size': 800},\n",
       "  'atmosphere': {'node_color': '#1f456e', 'node_size': 800},\n",
       "  'oxygene': {'node_color': '#1f456e', 'node_size': 800},\n",
       "  'water': {'node_color': '#1f456e', 'node_size': 800},\n",
       "  'life': {'node_color': '#1f456e', 'node_size': 800}},\n",
       " 'edge_properties': {('mass', 'gravity'): {'color': '#000000', 'weight': 1},\n",
       "  ('mass', 'atmosphere'): {'color': '#000000', 'weight': 1},\n",
       "  ('radius', 'mass'): {'color': '#000000', 'weight': 1},\n",
       "  ('radius', 'gravity'): {'color': '#000000', 'weight': 1},\n",
       "  ('atmosphere', 'oxygene'): {'color': '#000000', 'weight': 1},\n",
       "  ('water', 'radius'): {'color': '#000000', 'weight': 1},\n",
       "  ('water', 'atmosphere'): {'color': '#000000', 'weight': 1},\n",
       "  ('water', 'oxygene'): {'color': '#000000', 'weight': 1},\n",
       "  ('life', 'atmosphere'): {'color': '#000000', 'weight': 1},\n",
       "  ('life', 'oxygene'): {'color': '#000000', 'weight': 1},\n",
       "  ('life', 'water'): {'color': '#000000', 'weight': 1}}}"
      ]
     },
     "execution_count": 77,
     "metadata": {},
     "output_type": "execute_result"
    },
    {
     "data": {
      "image/png": "[encoded data removed]",
      "text/plain": [
       "<Figure size 1500x1000 with 1 Axes>"
      ]
     },
     "metadata": {},
     "output_type": "display_data"
    }
   ],
   "source": [
    "bn.plot(DAG, interactive=False)#poner interactive en true para que se pueda mover el grafo"
   ]
  },
  {
   "cell_type": "code",
   "execution_count": 78,
   "metadata": {},
   "outputs": [
    {
     "data": {
      "text/html": [
       "<div>\n",
       "<style scoped>\n",
       "    .dataframe tbody tr th:only-of-type {\n",
       "        vertical-align: middle;\n",
       "    }\n",
       "\n",
       "    .dataframe tbody tr th {\n",
       "        vertical-align: top;\n",
       "    }\n",
       "\n",
       "    .dataframe thead th {\n",
       "        text-align: right;\n",
       "    }\n",
       "</style>\n",
       "<table border=\"1\" class=\"dataframe\">\n",
       "  <thead>\n",
       "    <tr style=\"text-align: right;\">\n",
       "      <th></th>\n",
       "      <th>mass</th>\n",
       "      <th>temp</th>\n",
       "      <th>radius</th>\n",
       "      <th>gravity</th>\n",
       "      <th>rotation_duration</th>\n",
       "      <th>atmosphere</th>\n",
       "      <th>oxygene</th>\n",
       "      <th>water</th>\n",
       "      <th>life</th>\n",
       "    </tr>\n",
       "  </thead>\n",
       "  <tbody>\n",
       "    <tr>\n",
       "      <th>0</th>\n",
       "      <td>GRANDE</td>\n",
       "      <td>CALIENTE</td>\n",
       "      <td>GRANDE</td>\n",
       "      <td>IDEAL</td>\n",
       "      <td>LENTO</td>\n",
       "      <td>YES</td>\n",
       "      <td>YES</td>\n",
       "      <td>YES</td>\n",
       "      <td>NO</td>\n",
       "    </tr>\n",
       "    <tr>\n",
       "      <th>1</th>\n",
       "      <td>GRANDE</td>\n",
       "      <td>CALIENTE</td>\n",
       "      <td>GRANDE</td>\n",
       "      <td>IDEAL</td>\n",
       "      <td>LENTO</td>\n",
       "      <td>NO</td>\n",
       "      <td>NO</td>\n",
       "      <td>NO</td>\n",
       "      <td>NO</td>\n",
       "    </tr>\n",
       "    <tr>\n",
       "      <th>2</th>\n",
       "      <td>GRANDE</td>\n",
       "      <td>CALIENTE</td>\n",
       "      <td>GRANDE</td>\n",
       "      <td>IDEAL</td>\n",
       "      <td>RÁPIDO</td>\n",
       "      <td>YES</td>\n",
       "      <td>YES</td>\n",
       "      <td>YES</td>\n",
       "      <td>YES</td>\n",
       "    </tr>\n",
       "    <tr>\n",
       "      <th>3</th>\n",
       "      <td>GRANDE</td>\n",
       "      <td>CALIENTE</td>\n",
       "      <td>GRANDE</td>\n",
       "      <td>IDEAL</td>\n",
       "      <td>IDEAL</td>\n",
       "      <td>YES</td>\n",
       "      <td>YES</td>\n",
       "      <td>NO</td>\n",
       "      <td>NO</td>\n",
       "    </tr>\n",
       "    <tr>\n",
       "      <th>4</th>\n",
       "      <td>PEQUEÑO</td>\n",
       "      <td>FRÍO</td>\n",
       "      <td>GRANDE</td>\n",
       "      <td>IDEAL</td>\n",
       "      <td>LENTO</td>\n",
       "      <td>NO</td>\n",
       "      <td>NO</td>\n",
       "      <td>NO</td>\n",
       "      <td>NO</td>\n",
       "    </tr>\n",
       "  </tbody>\n",
       "</table>\n",
       "</div>"
      ],
      "text/plain": [
       "      mass      temp  radius gravity rotation_duration atmosphere oxygene  \\\n",
       "0   GRANDE  CALIENTE  GRANDE   IDEAL             LENTO        YES     YES   \n",
       "1   GRANDE  CALIENTE  GRANDE   IDEAL             LENTO         NO      NO   \n",
       "2   GRANDE  CALIENTE  GRANDE   IDEAL            RÁPIDO        YES     YES   \n",
       "3   GRANDE  CALIENTE  GRANDE   IDEAL             IDEAL        YES     YES   \n",
       "4  PEQUEÑO      FRÍO  GRANDE   IDEAL             LENTO         NO      NO   \n",
       "\n",
       "  water life  \n",
       "0   YES   NO  \n",
       "1    NO   NO  \n",
       "2   YES  YES  \n",
       "3    NO   NO  \n",
       "4    NO   NO  "
      ]
     },
     "execution_count": 78,
     "metadata": {},
     "output_type": "execute_result"
    }
   ],
   "source": [
    "df.head()"
   ]
  },
  {
   "cell_type": "code",
   "execution_count": 79,
   "metadata": {},
   "outputs": [
    {
     "name": "stdout",
     "output_type": "stream",
     "text": [
      "[bnlearn] >bayes DAG created.\n"
     ]
    }
   ],
   "source": [
    "edges = [('mass', 'gravity'),\n",
    "         ('radius', 'gravity'),\n",
    "         ('temp', 'atmosphere'),\n",
    "         ('gravity', 'atmosphere'), \n",
    "         ('atmosphere', 'water'),\n",
    "         ('atmosphere', 'oxygene'),\n",
    "         ('mass', 'rotation_duration'),\n",
    "         ('oxygene', 'water'),\n",
    "         ('water', 'life'),\n",
    "         ('atmosphere', 'life'),\n",
    "         ('oxygene', 'life'),\n",
    "         ('rotation_duration', 'temp'),\n",
    "         ('temp', 'life'), \n",
    "         ('gravity', 'life')\n",
    "         ]\n",
    "\n",
    "DAG_handmade = bn.make_DAG(edges)"
   ]
  },
  {
   "cell_type": "code",
   "execution_count": 80,
   "metadata": {},
   "outputs": [
    {
     "name": "stdout",
     "output_type": "stream",
     "text": [
      "[bnlearn] >Set node properties.\n",
      "[bnlearn] >Set edge properties.\n",
      "[bnlearn] >Plot based on Bayesian model\n"
     ]
    },
    {
     "data": {
      "text/plain": [
       "{'ax': <Figure size 1500x1000 with 1 Axes>,\n",
       " 'pos': {'mass': array([-0.39248797,  0.07876999]),\n",
       "  'gravity': array([0.6289408 , 0.06794018]),\n",
       "  'radius': array([0.32234342, 0.95872596]),\n",
       "  'temp': array([ 0.04105784, -0.56996449]),\n",
       "  'atmosphere': array([ 0.19888638, -0.00738437]),\n",
       "  'water': array([-0.1396595 ,  0.38857127]),\n",
       "  'oxygene': array([-0.17510986, -0.13235235]),\n",
       "  'rotation_duration': array([-1.        , -0.23250952]),\n",
       "  'life': array([ 0.5160289 , -0.55179666])},\n",
       " 'G': <networkx.classes.digraph.DiGraph at 0x2609bd02a90>,\n",
       " 'node_properties': {'mass': {'node_color': '#1f456e', 'node_size': 800},\n",
       "  'gravity': {'node_color': '#1f456e', 'node_size': 800},\n",
       "  'radius': {'node_color': '#1f456e', 'node_size': 800},\n",
       "  'temp': {'node_color': '#1f456e', 'node_size': 800},\n",
       "  'atmosphere': {'node_color': '#1f456e', 'node_size': 800},\n",
       "  'water': {'node_color': '#1f456e', 'node_size': 800},\n",
       "  'oxygene': {'node_color': '#1f456e', 'node_size': 800},\n",
       "  'rotation_duration': {'node_color': '#1f456e', 'node_size': 800},\n",
       "  'life': {'node_color': '#1f456e', 'node_size': 800}},\n",
       " 'edge_properties': {('mass', 'gravity'): {'color': '#000000', 'weight': 1},\n",
       "  ('mass', 'rotation_duration'): {'color': '#000000', 'weight': 1},\n",
       "  ('gravity', 'atmosphere'): {'color': '#000000', 'weight': 1},\n",
       "  ('gravity', 'life'): {'color': '#000000', 'weight': 1},\n",
       "  ('radius', 'gravity'): {'color': '#000000', 'weight': 1},\n",
       "  ('temp', 'atmosphere'): {'color': '#000000', 'weight': 1},\n",
       "  ('temp', 'life'): {'color': '#000000', 'weight': 1},\n",
       "  ('atmosphere', 'water'): {'color': '#000000', 'weight': 1},\n",
       "  ('atmosphere', 'oxygene'): {'color': '#000000', 'weight': 1},\n",
       "  ('atmosphere', 'life'): {'color': '#000000', 'weight': 1},\n",
       "  ('water', 'life'): {'color': '#000000', 'weight': 1},\n",
       "  ('oxygene', 'water'): {'color': '#000000', 'weight': 1},\n",
       "  ('oxygene', 'life'): {'color': '#000000', 'weight': 1},\n",
       "  ('rotation_duration', 'temp'): {'color': '#000000', 'weight': 1}}}"
      ]
     },
     "execution_count": 80,
     "metadata": {},
     "output_type": "execute_result"
    },
    {
     "data": {
      "image/png": "[encoded data removed]",
      "text/plain": [
       "<Figure size 1500x1000 with 1 Axes>"
      ]
     },
     "metadata": {},
     "output_type": "display_data"
    }
   ],
   "source": [
    "bn.plot(DAG_handmade, interactive=False) #poner interactive en true para que se pueda ver el grafo"
   ]
  },
  {
   "cell_type": "code",
   "execution_count": 81,
   "metadata": {},
   "outputs": [
    {
     "name": "stdout",
     "output_type": "stream",
     "text": [
      "[bnlearn] >Parameter learning> Computing parameters using [bayes]\n",
      "[bnlearn] >CPD of mass:\n",
      "+---------------+----------+\n",
      "| mass(GRANDE)  | 0.333303 |\n",
      "+---------------+----------+\n",
      "| mass(MEDIANO) | 0.333394 |\n",
      "+---------------+----------+\n",
      "| mass(PEQUEÑO) | 0.333303 |\n",
      "+---------------+----------+\n",
      "[bnlearn] >CPD of gravity:\n",
      "+----------------+-----+--------------------+\n",
      "| mass           | ... | mass(PEQUEÑO)      |\n",
      "+----------------+-----+--------------------+\n",
      "| radius         | ... | radius(PEQUEÑO)    |\n",
      "+----------------+-----+--------------------+\n",
      "| gravity(IDEAL) | ... | 0.1647766323024055 |\n",
      "+----------------+-----+--------------------+\n",
      "| gravity(MUCHA) | ... | 0.0859106529209622 |\n",
      "+----------------+-----+--------------------+\n",
      "| gravity(POCA)  | ... | 0.7493127147766323 |\n",
      "+----------------+-----+--------------------+\n",
      "[bnlearn] >CPD of radius:\n",
      "+-----------------+-----------+\n",
      "| radius(GRANDE)  | 0.763875  |\n",
      "+-----------------+-----------+\n",
      "| radius(MEDIANO) | 0.176715  |\n",
      "+-----------------+-----------+\n",
      "| radius(PEQUEÑO) | 0.0594101 |\n",
      "+-----------------+-----------+\n",
      "[bnlearn] >CPD of temp:\n",
      "+-------------------+-----+---------------------------+\n",
      "| rotation_duration | ... | rotation_duration(RÁPIDO) |\n",
      "+-------------------+-----+---------------------------+\n",
      "| temp(CALIENTE)    | ... | 0.7042500878117317        |\n",
      "+-------------------+-----+---------------------------+\n",
      "| temp(FRÍO)        | ... | 0.17079381805409205       |\n",
      "+-------------------+-----+---------------------------+\n",
      "| temp(IDEAL)       | ... | 0.12495609413417634       |\n",
      "+-------------------+-----+---------------------------+\n",
      "[bnlearn] >CPD of atmosphere:\n",
      "+-----------------+-----+--------------------+\n",
      "| gravity         | ... | gravity(POCA)      |\n",
      "+-----------------+-----+--------------------+\n",
      "| temp            | ... | temp(IDEAL)        |\n",
      "+-----------------+-----+--------------------+\n",
      "| atmosphere(NO)  | ... | 0.5393356643356644 |\n",
      "+-----------------+-----+--------------------+\n",
      "| atmosphere(YES) | ... | 0.4606643356643357 |\n",
      "+-----------------+-----+--------------------+\n",
      "[bnlearn] >CPD of water:\n",
      "+------------+---------------------+-----+---------------------+\n",
      "| atmosphere | atmosphere(NO)      | ... | atmosphere(YES)     |\n",
      "+------------+---------------------+-----+---------------------+\n",
      "| oxygene    | oxygene(NO)         | ... | oxygene(YES)        |\n",
      "+------------+---------------------+-----+---------------------+\n",
      "| water(NO)  | 0.9607130494980962  | ... | 0.6974333662388944  |\n",
      "+------------+---------------------+-----+---------------------+\n",
      "| water(YES) | 0.03928695050190377 | ... | 0.30256663376110565 |\n",
      "+------------+---------------------+-----+---------------------+\n",
      "[bnlearn] >CPD of oxygene:\n",
      "+--------------+----------------------+---------------------+\n",
      "| atmosphere   | atmosphere(NO)       | atmosphere(YES)     |\n",
      "+--------------+----------------------+---------------------+\n",
      "| oxygene(NO)  | 0.9585268745852688   | 0.18454417387804387 |\n",
      "+--------------+----------------------+---------------------+\n",
      "| oxygene(YES) | 0.041473125414731256 | 0.8154558261219561  |\n",
      "+--------------+----------------------+---------------------+\n",
      "[bnlearn] >CPD of rotation_duration:\n",
      "+---------------------------+-----+---------------------+\n",
      "| mass                      | ... | mass(PEQUEÑO)       |\n",
      "+---------------------------+-----+---------------------+\n",
      "| rotation_duration(IDEAL)  | ... | 0.233296956469019   |\n",
      "+---------------------------+-----+---------------------+\n",
      "| rotation_duration(LENTO)  | ... | 0.6518127804049957  |\n",
      "+---------------------------+-----+---------------------+\n",
      "| rotation_duration(RÁPIDO) | ... | 0.11489026312598519 |\n",
      "+---------------------------+-----+---------------------+\n",
      "[bnlearn] >CPD of life:\n",
      "+------------+----------------------+-----+--------------------+\n",
      "| atmosphere | atmosphere(NO)       | ... | atmosphere(YES)    |\n",
      "+------------+----------------------+-----+--------------------+\n",
      "| gravity    | gravity(IDEAL)       | ... | gravity(POCA)      |\n",
      "+------------+----------------------+-----+--------------------+\n",
      "| oxygene    | oxygene(NO)          | ... | oxygene(YES)       |\n",
      "+------------+----------------------+-----+--------------------+\n",
      "| temp       | temp(CALIENTE)       | ... | temp(IDEAL)        |\n",
      "+------------+----------------------+-----+--------------------+\n",
      "| water      | water(NO)            | ... | water(YES)         |\n",
      "+------------+----------------------+-----+--------------------+\n",
      "| life(NO)   | 0.9861406399489742   | ... | 0.4664179104477612 |\n",
      "+------------+----------------------+-----+--------------------+\n",
      "| life(YES)  | 0.013859360051025832 | ... | 0.5335820895522388 |\n",
      "+------------+----------------------+-----+--------------------+\n",
      "[bnlearn] >Compute structure scores ['k2', 'bds', 'bic', 'bdeu'] for model comparison (higher is better).\n"
     ]
    }
   ],
   "source": [
    "model = bn.parameter_learning.fit(DAG_handmade, df)"
   ]
  },
  {
   "attachments": {},
   "cell_type": "markdown",
   "metadata": {},
   "source": []
  },
  {
   "cell_type": "code",
   "execution_count": 87,
   "metadata": {},
   "outputs": [
    {
     "name": "stdout",
     "output_type": "stream",
     "text": [
      "[bnlearn] >Variable Elimination..\n",
      "[bnlearn] >Data is stored in [query.df]\n",
      "+----+-----------+-----------+\n",
      "|    |   gravity |         p |\n",
      "+====+===========+===========+\n",
      "|  0 |         0 | 0.689794  |\n",
      "+----+-----------+-----------+\n",
      "|  1 |         1 | 0.299449  |\n",
      "+----+-----------+-----------+\n",
      "|  2 |         2 | 0.0107569 |\n",
      "+----+-----------+-----------+\n"
     ]
    }
   ],
   "source": [
    "q3 = bn.inference.fit(model, variables=['gravity'], evidence={'mass':'GRANDE', 'radius':'GRANDE'})"
   ]
  },
  {
   "cell_type": "code",
   "execution_count": 83,
   "metadata": {},
   "outputs": [
    {
     "name": "stdout",
     "output_type": "stream",
     "text": [
      "[bnlearn] >Variable Elimination..\n",
      "[bnlearn] >Data is stored in [query.df]\n",
      "+----+--------------+----------+\n",
      "|    |   atmosphere |        p |\n",
      "+====+==============+==========+\n",
      "|  0 |            0 | 0.549847 |\n",
      "+----+--------------+----------+\n",
      "|  1 |            1 | 0.450153 |\n",
      "+----+--------------+----------+\n"
     ]
    }
   ],
   "source": [
    "q4 = bn.inference.fit(model, variables = ['atmosphere'], evidence = {'temp':'IDEAL', 'gravity':'IDEAL'})"
   ]
  },
  {
   "cell_type": "code",
   "execution_count": 84,
   "metadata": {},
   "outputs": [
    {
     "name": "stdout",
     "output_type": "stream",
     "text": [
      "[bnlearn] >Variable Elimination..\n",
      "[bnlearn] >Data is stored in [query.df]\n",
      "+----+--------+----------+\n",
      "|    |   life |        p |\n",
      "+====+========+==========+\n",
      "|  0 |      0 | 0.329462 |\n",
      "+----+--------+----------+\n",
      "|  1 |      1 | 0.670538 |\n",
      "+----+--------+----------+\n"
     ]
    }
   ],
   "source": [
    "q5 = bn.inference.fit(model, variables = ['life'], evidence = {'temp':'IDEAL', 'gravity':'IDEAL', 'atmosphere':'YES', 'oxygene':'YES', 'water':'YES'})"
   ]
  }
 ],
 "metadata": {
  "kernelspec": {
   "display_name": "base",
   "language": "python",
   "name": "python3"
  },
  "language_info": {
   "codemirror_mode": {
    "name": "ipython",
    "version": 3
   },
   "file_extension": ".py",
   "mimetype": "text/x-python",
   "name": "python",
   "nbconvert_exporter": "python",
   "pygments_lexer": "ipython3",
   "version": "3.9.13"
  },
  "vscode": {
   "interpreter": {
    "hash": "01d23c502c9b39adab2a5d961d0dc2b224520749f5d5191045c69dada16bb2b1"
   }
  }
 },
 "nbformat": 4,
 "nbformat_minor": 4
}
